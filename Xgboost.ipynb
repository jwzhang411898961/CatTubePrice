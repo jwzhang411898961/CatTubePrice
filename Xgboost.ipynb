{
 "cells": [
  {
   "cell_type": "code",
   "execution_count": 1,
   "metadata": {},
   "outputs": [],
   "source": [
    "import pandas as pd\n",
    "import numpy as np\n",
    "from sklearn import ensemble, preprocessing\n",
    "import xgboost as xgb"
   ]
  },
  {
   "cell_type": "code",
   "execution_count": 2,
   "metadata": {},
   "outputs": [],
   "source": [
    "mac_path = \"/Users/jingweizhang/Dropbox/DataScience/Kaggle/CaterpillarTubePrice/competitions/caterpillar-tube-pricing/competition_data\"\n",
    "train = pd.read_csv(mac_path + '/train_set.csv', parse_dates=[2,])\n",
    "test = pd.read_csv(mac_path + '/test_set.csv', parse_dates=[3,])\n",
    "tube_data = pd.read_csv(mac_path + '/tube.csv')\n",
    "bill_of_materials_data = pd.read_csv(mac_path + '/bill_of_materials.csv')\n",
    "specs_data = pd.read_csv(mac_path + '/specs.csv')"
   ]
  },
  {
   "cell_type": "code",
   "execution_count": 3,
   "metadata": {},
   "outputs": [
    {
     "name": "stdout",
     "output_type": "stream",
     "text": [
      "train columns\n",
      "Index(['tube_assembly_id', 'supplier', 'quote_date', 'annual_usage',\n",
      "       'min_order_quantity', 'bracket_pricing', 'quantity', 'cost'],\n",
      "      dtype='object')\n",
      "test columns\n",
      "Index(['id', 'tube_assembly_id', 'supplier', 'quote_date', 'annual_usage',\n",
      "       'min_order_quantity', 'bracket_pricing', 'quantity'],\n",
      "      dtype='object')\n",
      "tube.csv df columns\n",
      "Index(['tube_assembly_id', 'material_id', 'diameter', 'wall', 'length',\n",
      "       'num_bends', 'bend_radius', 'end_a_1x', 'end_a_2x', 'end_x_1x',\n",
      "       'end_x_2x', 'end_a', 'end_x', 'num_boss', 'num_bracket', 'other'],\n",
      "      dtype='object')\n",
      "bill_of_materials.csv df columns\n",
      "Index(['tube_assembly_id', 'component_id_1', 'quantity_1', 'component_id_2',\n",
      "       'quantity_2', 'component_id_3', 'quantity_3', 'component_id_4',\n",
      "       'quantity_4', 'component_id_5', 'quantity_5', 'component_id_6',\n",
      "       'quantity_6', 'component_id_7', 'quantity_7', 'component_id_8',\n",
      "       'quantity_8'],\n",
      "      dtype='object')\n",
      "specs.csv df columns\n",
      "Index(['tube_assembly_id', 'spec1', 'spec2', 'spec3', 'spec4', 'spec5',\n",
      "       'spec6', 'spec7', 'spec8', 'spec9', 'spec10'],\n",
      "      dtype='object')\n",
      "  tube_assembly_id spec1 spec2 spec3 spec4 spec5 spec6 spec7 spec8 spec9  \\\n",
      "2         TA-00003   NaN   NaN   NaN   NaN   NaN   NaN   NaN   NaN   NaN   \n",
      "\n",
      "  spec10  \n",
      "2    NaN  \n"
     ]
    }
   ],
   "source": [
    "print(\"train columns\")\n",
    "print(train.columns)\n",
    "print(\"test columns\")\n",
    "print(test.columns)\n",
    "print(\"tube.csv df columns\")\n",
    "print(tube_data.columns)\n",
    "print(\"bill_of_materials.csv df columns\")\n",
    "print(bill_of_materials_data.columns)\n",
    "print(\"specs.csv df columns\")\n",
    "print(specs_data.columns)\n",
    "\n",
    "print(specs_data[2:3])"
   ]
  },
  {
   "cell_type": "code",
   "execution_count": 4,
   "metadata": {},
   "outputs": [
    {
     "name": "stdout",
     "output_type": "stream",
     "text": [
      "new train columns\n",
      "{dtype('<M8[ns]'): Index(['quote_date'], dtype='object'), dtype('int64'): Index(['annual_usage', 'min_order_quantity', 'quantity', 'num_bends',\n",
      "       'num_boss', 'num_bracket', 'other'],\n",
      "      dtype='object'), dtype('float64'): Index(['cost', 'diameter', 'wall', 'length', 'bend_radius', 'quantity_1',\n",
      "       'quantity_2', 'quantity_3', 'quantity_4', 'quantity_5', 'quantity_6',\n",
      "       'quantity_7', 'quantity_8'],\n",
      "      dtype='object'), dtype('O'): Index(['tube_assembly_id', 'supplier', 'bracket_pricing', 'material_id',\n",
      "       'end_a_1x', 'end_a_2x', 'end_x_1x', 'end_x_2x', 'end_a', 'end_x',\n",
      "       'component_id_1', 'component_id_2', 'component_id_3', 'component_id_4',\n",
      "       'component_id_5', 'component_id_6', 'component_id_7', 'component_id_8'],\n",
      "      dtype='object')}\n"
     ]
    }
   ],
   "source": [
    "train = pd.merge(train, tube_data, on = 'tube_assembly_id')\n",
    "train = pd.merge(train, bill_of_materials_data, on ='tube_assembly_id')\n",
    "test = pd.merge(test, tube_data, on ='tube_assembly_id')\n",
    "test = pd.merge(test, bill_of_materials_data, on ='tube_assembly_id')\n",
    "\n",
    "print(\"new train columns\")\n",
    "# print(train.columns)\n",
    "# print(train[1:10])\n",
    "print(train.columns.to_series().groupby(train.dtypes).groups)\n"
   ]
  },
  {
   "cell_type": "code",
   "execution_count": 5,
   "metadata": {},
   "outputs": [
    {
     "name": "stdout",
     "output_type": "stream",
     "text": [
      "Index(['supplier', 'annual_usage', 'min_order_quantity', 'bracket_pricing',\n",
      "       'quantity', 'material_id', 'diameter', 'wall', 'length', 'num_bends',\n",
      "       'bend_radius', 'end_a_1x', 'end_a_2x', 'end_x_1x', 'end_x_2x', 'end_a',\n",
      "       'end_x', 'num_boss', 'num_bracket', 'other', 'component_id_1',\n",
      "       'quantity_1', 'component_id_2', 'quantity_2', 'component_id_3',\n",
      "       'quantity_3', 'component_id_4', 'quantity_4', 'component_id_5',\n",
      "       'quantity_5', 'component_id_6', 'quantity_6', 'component_id_7',\n",
      "       'quantity_7', 'component_id_8', 'quantity_8', 'year', 'month'],\n",
      "      dtype='object')\n"
     ]
    }
   ],
   "source": [
    "# create some new features\n",
    "train['year'] = train.quote_date.dt.year\n",
    "train['month'] = train.quote_date.dt.month\n",
    "\n",
    "test['year'] = test.quote_date.dt.year\n",
    "test['month'] = test.quote_date.dt.month\n",
    "\n",
    "# drop useless columns and create labels\n",
    "idx = test.id.values.astype(int)\n",
    "test = test.drop(['id', 'tube_assembly_id', 'quote_date'], axis = 1)\n",
    "labels = train.cost.values\n",
    "\n",
    "train = train.drop(['quote_date', 'cost', 'tube_assembly_id'], axis = 1)\n",
    "print(train.columns)"
   ]
  },
  {
   "cell_type": "code",
   "execution_count": 6,
   "metadata": {},
   "outputs": [],
   "source": [
    "train['material_id'].replace(np.nan,' ', regex=True, inplace= True)\n",
    "test['material_id'].replace(np.nan,' ', regex=True, inplace= True)"
   ]
  },
  {
   "cell_type": "code",
   "execution_count": 7,
   "metadata": {},
   "outputs": [
    {
     "name": "stdout",
     "output_type": "stream",
     "text": [
      "train columns\n",
      "Index(['supplier', 'annual_usage', 'min_order_quantity', 'bracket_pricing',\n",
      "       'quantity', 'material_id', 'diameter', 'wall', 'length', 'num_bends',\n",
      "       'bend_radius', 'end_a_1x', 'end_a_2x', 'end_x_1x', 'end_x_2x', 'end_a',\n",
      "       'end_x', 'num_boss', 'num_bracket', 'other', 'component_id_1',\n",
      "       'quantity_1', 'component_id_2', 'quantity_2', 'component_id_3',\n",
      "       'quantity_3', 'component_id_4', 'quantity_4', 'component_id_5',\n",
      "       'quantity_5', 'component_id_6', 'quantity_6', 'component_id_7',\n",
      "       'quantity_7', 'component_id_8', 'quantity_8', 'year', 'month'],\n",
      "      dtype='object')\n"
     ]
    }
   ],
   "source": [
    "for i in range(1, 9):\n",
    "    column_label = 'component_id_' + str(i)\n",
    "    train[column_label].replace(np.nan,' ', regex=True, inplace= True)\n",
    "    test[column_label].replace(np.nan,' ', regex=True, inplace= True)\n",
    "train.fillna(0, inplace = True)\n",
    "test.fillna(0, inplace = True)\n",
    "\n",
    "print(\"train columns\")\n",
    "print(train.columns)\n",
    "\n",
    "# convert data to numpy array\n",
    "train = np.array(train)\n",
    "test = np.array(test)\n"
   ]
  },
  {
   "cell_type": "code",
   "execution_count": 8,
   "metadata": {},
   "outputs": [
    {
     "name": "stdout",
     "output_type": "stream",
     "text": [
      "0 ['S-0066', 'S-0066', 'S-0066', 'S-0066', 'S-0066', 'S-0066', 'S-0066', 'S-0066']\n",
      "3 ['Yes', 'Yes', 'Yes', 'Yes', 'Yes', 'Yes', 'Yes', 'Yes']\n",
      "5 ['SP-0019', 'SP-0019', 'SP-0019', 'SP-0019', 'SP-0035', 'SP-0035', 'SP-0035', 'SP-0035']\n",
      "11 ['N', 'N', 'N', 'N', 'N', 'N', 'N', 'N']\n",
      "12 ['N', 'N', 'N', 'N', 'N', 'N', 'N', 'N']\n",
      "13 ['N', 'N', 'N', 'N', 'N', 'N', 'N', 'N']\n",
      "14 ['N', 'N', 'N', 'N', 'N', 'N', 'N', 'N']\n",
      "15 ['EF-008', 'EF-008', 'EF-008', 'EF-008', 'EF-003', 'EF-003', 'EF-003', 'EF-003']\n",
      "16 ['EF-008', 'EF-008', 'EF-008', 'EF-008', 'EF-003', 'EF-003', 'EF-003', 'EF-003']\n",
      "20 ['C-1312', 'C-1312', 'C-1312', 'C-1312', 'C-1622', 'C-1622', 'C-1622', 'C-1622']\n",
      "22 [' ', ' ', ' ', ' ', 'C-1629', 'C-1629', 'C-1629', 'C-1629']\n",
      "24 [' ', ' ', ' ', ' ', ' ', ' ', ' ', ' ']\n",
      "26 [' ', ' ', ' ', ' ', ' ', ' ', ' ', ' ']\n",
      "28 [' ', ' ', ' ', ' ', ' ', ' ', ' ', ' ']\n",
      "30 [' ', ' ', ' ', ' ', ' ', ' ', ' ', ' ']\n",
      "32 [' ', ' ', ' ', ' ', ' ', ' ', ' ', ' ']\n",
      "34 [' ', ' ', ' ', ' ', ' ', ' ', ' ', ' ']\n"
     ]
    }
   ],
   "source": [
    "# label encode the categorical variables\n",
    "for i in range(train.shape[1]):\n",
    "    if i in [0,3,5,11,12,13,14,15,16,20,22,24,26,28,30,32,34]:\n",
    "        print(i,list(train[1:5,i]) + list(test[1:5,i]))\n",
    "        lbl = preprocessing.LabelEncoder()\n",
    "        lbl.fit(list(train[:,i]) + list(test[:,i]))\n",
    "        train[:,i] = lbl.transform(train[:,i])\n",
    "        test[:,i] = lbl.transform(test[:,i])\n",
    "        \n",
    "# object array to float\n",
    "train = train.astype(float)\n",
    "test = test.astype(float)\n",
    "\n",
    "label_log = np.log1p(labels)\n",
    "\n",
    "# fit a random forest model\n",
    "\n",
    "params = {}\n",
    "params[\"objective\"] = \"reg:linear\"\n",
    "params[\"eta\"] = 0.1\n",
    "params[\"min_child_weight\"] = 6\n",
    "params[\"subsample\"] = 0.87\n",
    "params[\"colsample_bytree\"] = 0.50\n",
    "params[\"scale_pos_weight\"] = 1.0\n",
    "params[\"silent\"] = 1\n",
    "params[\"max_depth\"] = 7"
   ]
  },
  {
   "cell_type": "code",
   "execution_count": null,
   "metadata": {},
   "outputs": [],
   "source": []
  }
 ],
 "metadata": {
  "kernelspec": {
   "display_name": "Python 3",
   "language": "python",
   "name": "python3"
  },
  "language_info": {
   "codemirror_mode": {
    "name": "ipython",
    "version": 3
   },
   "file_extension": ".py",
   "mimetype": "text/x-python",
   "name": "python",
   "nbconvert_exporter": "python",
   "pygments_lexer": "ipython3",
   "version": "3.6.4"
  }
 },
 "nbformat": 4,
 "nbformat_minor": 2
}
